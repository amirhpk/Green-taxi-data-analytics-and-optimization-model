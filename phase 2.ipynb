{
 "cells": [
  {
   "cell_type": "markdown",
   "id": "1e8bcd330d3bc814",
   "metadata": {
    "collapsed": false,
    "jupyter": {
     "outputs_hidden": false
    }
   },
   "source": [
    "Optimization Model"
   ]
  },
  {
   "cell_type": "markdown",
   "id": "feeae9507509b6d7",
   "metadata": {
    "collapsed": false,
    "jupyter": {
     "outputs_hidden": false
    }
   },
   "source": [
    "Import Libraries"
   ]
  },
  {
   "cell_type": "code",
   "execution_count": 1,
   "id": "bae6458b2a9990b1",
   "metadata": {
    "collapsed": false,
    "jupyter": {
     "outputs_hidden": false
    }
   },
   "outputs": [],
   "source": [
    "import pandas as pd\n",
    "from sklearn.model_selection import train_test_split\n",
    "from sklearn.ensemble import RandomForestClassifier\n",
    "from sklearn.metrics import accuracy_score\n"
   ]
  },
  {
   "cell_type": "markdown",
   "id": "29ded51d9b7e5c1f",
   "metadata": {
    "collapsed": false,
    "jupyter": {
     "outputs_hidden": false
    }
   },
   "source": [
    "Load dataset"
   ]
  },
  {
   "cell_type": "code",
   "execution_count": 5,
   "id": "a265eaf863030e03",
   "metadata": {
    "collapsed": false,
    "jupyter": {
     "outputs_hidden": false
    }
   },
   "outputs": [],
   "source": [
    "file_path = 'Preprocessed.csv'\n",
    "data = pd.read_csv(r\"C:\\Users\\asus\\Desktop\\Preprocessed.csv\")"
   ]
  },
  {
   "cell_type": "code",
   "execution_count": 11,
   "id": "1cc6d0888adc4f52",
   "metadata": {
    "collapsed": false,
    "jupyter": {
     "outputs_hidden": false
    }
   },
   "outputs": [
    {
     "ename": "KeyError",
     "evalue": "251.05646992818436",
     "output_type": "error",
     "traceback": [
      "\u001b[1;31m---------------------------------------------------------------------------\u001b[0m",
      "\u001b[1;31mKeyError\u001b[0m                                  Traceback (most recent call last)",
      "File \u001b[1;32m~\\anaconda3\\ammm\\Lib\\site-packages\\pandas\\core\\indexes\\base.py:3805\u001b[0m, in \u001b[0;36mIndex.get_loc\u001b[1;34m(self, key)\u001b[0m\n\u001b[0;32m   3804\u001b[0m \u001b[38;5;28;01mtry\u001b[39;00m:\n\u001b[1;32m-> 3805\u001b[0m     \u001b[38;5;28;01mreturn\u001b[39;00m \u001b[38;5;28mself\u001b[39m\u001b[38;5;241m.\u001b[39m_engine\u001b[38;5;241m.\u001b[39mget_loc(casted_key)\n\u001b[0;32m   3806\u001b[0m \u001b[38;5;28;01mexcept\u001b[39;00m \u001b[38;5;167;01mKeyError\u001b[39;00m \u001b[38;5;28;01mas\u001b[39;00m err:\n",
      "File \u001b[1;32mindex.pyx:167\u001b[0m, in \u001b[0;36mpandas._libs.index.IndexEngine.get_loc\u001b[1;34m()\u001b[0m\n",
      "File \u001b[1;32mindex.pyx:191\u001b[0m, in \u001b[0;36mpandas._libs.index.IndexEngine.get_loc\u001b[1;34m()\u001b[0m\n",
      "File \u001b[1;32mindex.pyx:234\u001b[0m, in \u001b[0;36mpandas._libs.index.IndexEngine._get_loc_duplicates\u001b[1;34m()\u001b[0m\n",
      "File \u001b[1;32mindex.pyx:242\u001b[0m, in \u001b[0;36mpandas._libs.index.IndexEngine._maybe_get_bool_indexer\u001b[1;34m()\u001b[0m\n",
      "File \u001b[1;32mindex.pyx:134\u001b[0m, in \u001b[0;36mpandas._libs.index._unpack_bool_indexer\u001b[1;34m()\u001b[0m\n",
      "\u001b[1;31mKeyError\u001b[0m: 251.05646992818436",
      "\nThe above exception was the direct cause of the following exception:\n",
      "\u001b[1;31mKeyError\u001b[0m                                  Traceback (most recent call last)",
      "Cell \u001b[1;32mIn[11], line 70\u001b[0m\n\u001b[0;32m     65\u001b[0m model \u001b[38;5;241m=\u001b[39m LpProblem(\u001b[38;5;124m\"\u001b[39m\u001b[38;5;124mMaximize_Profit\u001b[39m\u001b[38;5;124m\"\u001b[39m, LpMaximize)\n\u001b[0;32m     67\u001b[0m x \u001b[38;5;241m=\u001b[39m LpVariable\u001b[38;5;241m.\u001b[39mdicts(\u001b[38;5;124m\"\u001b[39m\u001b[38;5;124mX\u001b[39m\u001b[38;5;124m\"\u001b[39m, [(i, j, t) \u001b[38;5;28;01mfor\u001b[39;00m i \u001b[38;5;129;01min\u001b[39;00m locations \u001b[38;5;28;01mfor\u001b[39;00m j \u001b[38;5;129;01min\u001b[39;00m locations \u001b[38;5;28;01mfor\u001b[39;00m t \u001b[38;5;129;01min\u001b[39;00m times],\n\u001b[0;32m     68\u001b[0m                      lowBound\u001b[38;5;241m=\u001b[39m\u001b[38;5;241m0\u001b[39m, cat\u001b[38;5;241m=\u001b[39m\u001b[38;5;124m\"\u001b[39m\u001b[38;5;124mContinuous\u001b[39m\u001b[38;5;124m\"\u001b[39m)\n\u001b[1;32m---> 70\u001b[0m objective \u001b[38;5;241m=\u001b[39m lpSum(\n\u001b[0;32m     71\u001b[0m     (\u001b[38;5;241m40\u001b[39m \u001b[38;5;241m-\u001b[39m low_cost_matrix\u001b[38;5;241m.\u001b[39mloc[i, j]) \u001b[38;5;241m*\u001b[39m x[i, j, \u001b[38;5;124m'\u001b[39m\u001b[38;5;124mLow\u001b[39m\u001b[38;5;124m'\u001b[39m] \u001b[38;5;241m+\u001b[39m\n\u001b[0;32m     72\u001b[0m     (\u001b[38;5;241m40\u001b[39m \u001b[38;5;241m-\u001b[39m normal_cost_matrix\u001b[38;5;241m.\u001b[39mloc[i, j]) \u001b[38;5;241m*\u001b[39m x[i, j, \u001b[38;5;124m'\u001b[39m\u001b[38;5;124mNormal\u001b[39m\u001b[38;5;124m'\u001b[39m] \u001b[38;5;241m+\u001b[39m\n\u001b[0;32m     73\u001b[0m     (\u001b[38;5;241m40\u001b[39m \u001b[38;5;241m-\u001b[39m peak_cost_matrix\u001b[38;5;241m.\u001b[39mloc[i, j]) \u001b[38;5;241m*\u001b[39m x[i, j, \u001b[38;5;124m'\u001b[39m\u001b[38;5;124mPeak\u001b[39m\u001b[38;5;124m'\u001b[39m]\n\u001b[0;32m     74\u001b[0m     \u001b[38;5;28;01mfor\u001b[39;00m i \u001b[38;5;129;01min\u001b[39;00m locations \u001b[38;5;28;01mfor\u001b[39;00m j \u001b[38;5;129;01min\u001b[39;00m locations \u001b[38;5;28;01mif\u001b[39;00m i \u001b[38;5;241m!=\u001b[39m j\n\u001b[0;32m     75\u001b[0m ) \u001b[38;5;241m+\u001b[39m lpSum(\n\u001b[0;32m     76\u001b[0m     \u001b[38;5;241m5\u001b[39m \u001b[38;5;241m*\u001b[39m model_accuracy \u001b[38;5;241m*\u001b[39m x[i, j, t]\n\u001b[0;32m     77\u001b[0m     \u001b[38;5;28;01mif\u001b[39;00m (i, j, t) \u001b[38;5;129;01min\u001b[39;00m Important_Locations\u001b[38;5;241m.\u001b[39mindex \u001b[38;5;129;01mand\u001b[39;00m Important_Locations\u001b[38;5;241m.\u001b[39mloc[(i, j, t), \u001b[38;5;124m'\u001b[39m\u001b[38;5;124mtip_paid\u001b[39m\u001b[38;5;124m'\u001b[39m] \u001b[38;5;241m==\u001b[39m \u001b[38;5;124m'\u001b[39m\u001b[38;5;124mYes\u001b[39m\u001b[38;5;124m'\u001b[39m \u001b[38;5;28;01melse\u001b[39;00m \u001b[38;5;241m0\u001b[39m\n\u001b[0;32m     78\u001b[0m     \u001b[38;5;28;01mfor\u001b[39;00m i \u001b[38;5;129;01min\u001b[39;00m locations \u001b[38;5;28;01mfor\u001b[39;00m j \u001b[38;5;129;01min\u001b[39;00m locations \u001b[38;5;28;01mif\u001b[39;00m i \u001b[38;5;241m!=\u001b[39m j \u001b[38;5;28;01mfor\u001b[39;00m t \u001b[38;5;129;01min\u001b[39;00m times\n\u001b[0;32m     79\u001b[0m )\n\u001b[0;32m     80\u001b[0m model \u001b[38;5;241m+\u001b[39m\u001b[38;5;241m=\u001b[39m objective\n\u001b[0;32m     83\u001b[0m model \u001b[38;5;241m+\u001b[39m\u001b[38;5;241m=\u001b[39m lpSum(\n\u001b[0;32m     84\u001b[0m     distance_matrix\u001b[38;5;241m.\u001b[39mloc[i, j] \u001b[38;5;241m*\u001b[39m x[i, j, t]\n\u001b[0;32m     85\u001b[0m     \u001b[38;5;28;01mfor\u001b[39;00m i \u001b[38;5;129;01min\u001b[39;00m locations \u001b[38;5;28;01mfor\u001b[39;00m j \u001b[38;5;129;01min\u001b[39;00m locations \u001b[38;5;28;01mif\u001b[39;00m i \u001b[38;5;241m!=\u001b[39m j \u001b[38;5;28;01mfor\u001b[39;00m t \u001b[38;5;129;01min\u001b[39;00m times\n\u001b[0;32m     86\u001b[0m ) \u001b[38;5;241m<\u001b[39m\u001b[38;5;241m=\u001b[39m \u001b[38;5;241m1000\u001b[39m, \u001b[38;5;124m\"\u001b[39m\u001b[38;5;124mTotal_Distance\u001b[39m\u001b[38;5;124m\"\u001b[39m\n",
      "File \u001b[1;32m~\\anaconda3\\ammm\\Lib\\site-packages\\pulp\\pulp.py:2233\u001b[0m, in \u001b[0;36mlpSum\u001b[1;34m(vector)\u001b[0m\n\u001b[0;32m   2227\u001b[0m \u001b[38;5;28;01mdef\u001b[39;00m \u001b[38;5;21mlpSum\u001b[39m(vector):\n\u001b[0;32m   2228\u001b[0m \u001b[38;5;250m    \u001b[39m\u001b[38;5;124;03m\"\"\"\u001b[39;00m\n\u001b[0;32m   2229\u001b[0m \u001b[38;5;124;03m    Calculate the sum of a list of linear expressions\u001b[39;00m\n\u001b[0;32m   2230\u001b[0m \n\u001b[0;32m   2231\u001b[0m \u001b[38;5;124;03m    :param vector: A list of linear expressions\u001b[39;00m\n\u001b[0;32m   2232\u001b[0m \u001b[38;5;124;03m    \"\"\"\u001b[39;00m\n\u001b[1;32m-> 2233\u001b[0m     \u001b[38;5;28;01mreturn\u001b[39;00m LpAffineExpression()\u001b[38;5;241m.\u001b[39maddInPlace(vector)\n",
      "File \u001b[1;32m~\\anaconda3\\ammm\\Lib\\site-packages\\pulp\\pulp.py:867\u001b[0m, in \u001b[0;36mLpAffineExpression.addInPlace\u001b[1;34m(self, other, sign)\u001b[0m\n\u001b[0;32m    864\u001b[0m         \u001b[38;5;28mself\u001b[39m\u001b[38;5;241m.\u001b[39maddInPlace(e, sign\u001b[38;5;241m=\u001b[39msign)\n\u001b[0;32m    865\u001b[0m \u001b[38;5;28;01melif\u001b[39;00m \u001b[38;5;28misinstance\u001b[39m(other, \u001b[38;5;28mlist\u001b[39m) \u001b[38;5;129;01mor\u001b[39;00m \u001b[38;5;28misinstance\u001b[39m(other, Iterable):\n\u001b[0;32m    866\u001b[0m     \u001b[38;5;66;03m# if a list, we add each element of the list\u001b[39;00m\n\u001b[1;32m--> 867\u001b[0m     \u001b[38;5;28;01mfor\u001b[39;00m e \u001b[38;5;129;01min\u001b[39;00m other:\n\u001b[0;32m    868\u001b[0m         \u001b[38;5;28mself\u001b[39m\u001b[38;5;241m.\u001b[39maddInPlace(e, sign\u001b[38;5;241m=\u001b[39msign)\n\u001b[0;32m    869\u001b[0m \u001b[38;5;66;03m# if we're here, other must be a number\u001b[39;00m\n\u001b[0;32m    870\u001b[0m \u001b[38;5;66;03m# we check if it's an actual number:\u001b[39;00m\n",
      "Cell \u001b[1;32mIn[11], line 71\u001b[0m, in \u001b[0;36m<genexpr>\u001b[1;34m(.0)\u001b[0m\n\u001b[0;32m     65\u001b[0m model \u001b[38;5;241m=\u001b[39m LpProblem(\u001b[38;5;124m\"\u001b[39m\u001b[38;5;124mMaximize_Profit\u001b[39m\u001b[38;5;124m\"\u001b[39m, LpMaximize)\n\u001b[0;32m     67\u001b[0m x \u001b[38;5;241m=\u001b[39m LpVariable\u001b[38;5;241m.\u001b[39mdicts(\u001b[38;5;124m\"\u001b[39m\u001b[38;5;124mX\u001b[39m\u001b[38;5;124m\"\u001b[39m, [(i, j, t) \u001b[38;5;28;01mfor\u001b[39;00m i \u001b[38;5;129;01min\u001b[39;00m locations \u001b[38;5;28;01mfor\u001b[39;00m j \u001b[38;5;129;01min\u001b[39;00m locations \u001b[38;5;28;01mfor\u001b[39;00m t \u001b[38;5;129;01min\u001b[39;00m times],\n\u001b[0;32m     68\u001b[0m                      lowBound\u001b[38;5;241m=\u001b[39m\u001b[38;5;241m0\u001b[39m, cat\u001b[38;5;241m=\u001b[39m\u001b[38;5;124m\"\u001b[39m\u001b[38;5;124mContinuous\u001b[39m\u001b[38;5;124m\"\u001b[39m)\n\u001b[0;32m     70\u001b[0m objective \u001b[38;5;241m=\u001b[39m lpSum(\n\u001b[1;32m---> 71\u001b[0m     (\u001b[38;5;241m40\u001b[39m \u001b[38;5;241m-\u001b[39m low_cost_matrix\u001b[38;5;241m.\u001b[39mloc[i, j]) \u001b[38;5;241m*\u001b[39m x[i, j, \u001b[38;5;124m'\u001b[39m\u001b[38;5;124mLow\u001b[39m\u001b[38;5;124m'\u001b[39m] \u001b[38;5;241m+\u001b[39m\n\u001b[0;32m     72\u001b[0m     (\u001b[38;5;241m40\u001b[39m \u001b[38;5;241m-\u001b[39m normal_cost_matrix\u001b[38;5;241m.\u001b[39mloc[i, j]) \u001b[38;5;241m*\u001b[39m x[i, j, \u001b[38;5;124m'\u001b[39m\u001b[38;5;124mNormal\u001b[39m\u001b[38;5;124m'\u001b[39m] \u001b[38;5;241m+\u001b[39m\n\u001b[0;32m     73\u001b[0m     (\u001b[38;5;241m40\u001b[39m \u001b[38;5;241m-\u001b[39m peak_cost_matrix\u001b[38;5;241m.\u001b[39mloc[i, j]) \u001b[38;5;241m*\u001b[39m x[i, j, \u001b[38;5;124m'\u001b[39m\u001b[38;5;124mPeak\u001b[39m\u001b[38;5;124m'\u001b[39m]\n\u001b[0;32m     74\u001b[0m     \u001b[38;5;28;01mfor\u001b[39;00m i \u001b[38;5;129;01min\u001b[39;00m locations \u001b[38;5;28;01mfor\u001b[39;00m j \u001b[38;5;129;01min\u001b[39;00m locations \u001b[38;5;28;01mif\u001b[39;00m i \u001b[38;5;241m!=\u001b[39m j\n\u001b[0;32m     75\u001b[0m ) \u001b[38;5;241m+\u001b[39m lpSum(\n\u001b[0;32m     76\u001b[0m     \u001b[38;5;241m5\u001b[39m \u001b[38;5;241m*\u001b[39m model_accuracy \u001b[38;5;241m*\u001b[39m x[i, j, t]\n\u001b[0;32m     77\u001b[0m     \u001b[38;5;28;01mif\u001b[39;00m (i, j, t) \u001b[38;5;129;01min\u001b[39;00m Important_Locations\u001b[38;5;241m.\u001b[39mindex \u001b[38;5;129;01mand\u001b[39;00m Important_Locations\u001b[38;5;241m.\u001b[39mloc[(i, j, t), \u001b[38;5;124m'\u001b[39m\u001b[38;5;124mtip_paid\u001b[39m\u001b[38;5;124m'\u001b[39m] \u001b[38;5;241m==\u001b[39m \u001b[38;5;124m'\u001b[39m\u001b[38;5;124mYes\u001b[39m\u001b[38;5;124m'\u001b[39m \u001b[38;5;28;01melse\u001b[39;00m \u001b[38;5;241m0\u001b[39m\n\u001b[0;32m     78\u001b[0m     \u001b[38;5;28;01mfor\u001b[39;00m i \u001b[38;5;129;01min\u001b[39;00m locations \u001b[38;5;28;01mfor\u001b[39;00m j \u001b[38;5;129;01min\u001b[39;00m locations \u001b[38;5;28;01mif\u001b[39;00m i \u001b[38;5;241m!=\u001b[39m j \u001b[38;5;28;01mfor\u001b[39;00m t \u001b[38;5;129;01min\u001b[39;00m times\n\u001b[0;32m     79\u001b[0m )\n\u001b[0;32m     80\u001b[0m model \u001b[38;5;241m+\u001b[39m\u001b[38;5;241m=\u001b[39m objective\n\u001b[0;32m     83\u001b[0m model \u001b[38;5;241m+\u001b[39m\u001b[38;5;241m=\u001b[39m lpSum(\n\u001b[0;32m     84\u001b[0m     distance_matrix\u001b[38;5;241m.\u001b[39mloc[i, j] \u001b[38;5;241m*\u001b[39m x[i, j, t]\n\u001b[0;32m     85\u001b[0m     \u001b[38;5;28;01mfor\u001b[39;00m i \u001b[38;5;129;01min\u001b[39;00m locations \u001b[38;5;28;01mfor\u001b[39;00m j \u001b[38;5;129;01min\u001b[39;00m locations \u001b[38;5;28;01mif\u001b[39;00m i \u001b[38;5;241m!=\u001b[39m j \u001b[38;5;28;01mfor\u001b[39;00m t \u001b[38;5;129;01min\u001b[39;00m times\n\u001b[0;32m     86\u001b[0m ) \u001b[38;5;241m<\u001b[39m\u001b[38;5;241m=\u001b[39m \u001b[38;5;241m1000\u001b[39m, \u001b[38;5;124m\"\u001b[39m\u001b[38;5;124mTotal_Distance\u001b[39m\u001b[38;5;124m\"\u001b[39m\n",
      "File \u001b[1;32m~\\anaconda3\\ammm\\Lib\\site-packages\\pandas\\core\\indexing.py:1184\u001b[0m, in \u001b[0;36m_LocationIndexer.__getitem__\u001b[1;34m(self, key)\u001b[0m\n\u001b[0;32m   1182\u001b[0m     \u001b[38;5;28;01mif\u001b[39;00m \u001b[38;5;28mself\u001b[39m\u001b[38;5;241m.\u001b[39m_is_scalar_access(key):\n\u001b[0;32m   1183\u001b[0m         \u001b[38;5;28;01mreturn\u001b[39;00m \u001b[38;5;28mself\u001b[39m\u001b[38;5;241m.\u001b[39mobj\u001b[38;5;241m.\u001b[39m_get_value(\u001b[38;5;241m*\u001b[39mkey, takeable\u001b[38;5;241m=\u001b[39m\u001b[38;5;28mself\u001b[39m\u001b[38;5;241m.\u001b[39m_takeable)\n\u001b[1;32m-> 1184\u001b[0m     \u001b[38;5;28;01mreturn\u001b[39;00m \u001b[38;5;28mself\u001b[39m\u001b[38;5;241m.\u001b[39m_getitem_tuple(key)\n\u001b[0;32m   1185\u001b[0m \u001b[38;5;28;01melse\u001b[39;00m:\n\u001b[0;32m   1186\u001b[0m     \u001b[38;5;66;03m# we by definition only have the 0th axis\u001b[39;00m\n\u001b[0;32m   1187\u001b[0m     axis \u001b[38;5;241m=\u001b[39m \u001b[38;5;28mself\u001b[39m\u001b[38;5;241m.\u001b[39maxis \u001b[38;5;129;01mor\u001b[39;00m \u001b[38;5;241m0\u001b[39m\n",
      "File \u001b[1;32m~\\anaconda3\\ammm\\Lib\\site-packages\\pandas\\core\\indexing.py:1368\u001b[0m, in \u001b[0;36m_LocIndexer._getitem_tuple\u001b[1;34m(self, tup)\u001b[0m\n\u001b[0;32m   1366\u001b[0m \u001b[38;5;28;01mwith\u001b[39;00m suppress(IndexingError):\n\u001b[0;32m   1367\u001b[0m     tup \u001b[38;5;241m=\u001b[39m \u001b[38;5;28mself\u001b[39m\u001b[38;5;241m.\u001b[39m_expand_ellipsis(tup)\n\u001b[1;32m-> 1368\u001b[0m     \u001b[38;5;28;01mreturn\u001b[39;00m \u001b[38;5;28mself\u001b[39m\u001b[38;5;241m.\u001b[39m_getitem_lowerdim(tup)\n\u001b[0;32m   1370\u001b[0m \u001b[38;5;66;03m# no multi-index, so validate all of the indexers\u001b[39;00m\n\u001b[0;32m   1371\u001b[0m tup \u001b[38;5;241m=\u001b[39m \u001b[38;5;28mself\u001b[39m\u001b[38;5;241m.\u001b[39m_validate_tuple_indexer(tup)\n",
      "File \u001b[1;32m~\\anaconda3\\ammm\\Lib\\site-packages\\pandas\\core\\indexing.py:1065\u001b[0m, in \u001b[0;36m_LocationIndexer._getitem_lowerdim\u001b[1;34m(self, tup)\u001b[0m\n\u001b[0;32m   1061\u001b[0m \u001b[38;5;28;01mfor\u001b[39;00m i, key \u001b[38;5;129;01min\u001b[39;00m \u001b[38;5;28menumerate\u001b[39m(tup):\n\u001b[0;32m   1062\u001b[0m     \u001b[38;5;28;01mif\u001b[39;00m is_label_like(key):\n\u001b[0;32m   1063\u001b[0m         \u001b[38;5;66;03m# We don't need to check for tuples here because those are\u001b[39;00m\n\u001b[0;32m   1064\u001b[0m         \u001b[38;5;66;03m#  caught by the _is_nested_tuple_indexer check above.\u001b[39;00m\n\u001b[1;32m-> 1065\u001b[0m         section \u001b[38;5;241m=\u001b[39m \u001b[38;5;28mself\u001b[39m\u001b[38;5;241m.\u001b[39m_getitem_axis(key, axis\u001b[38;5;241m=\u001b[39mi)\n\u001b[0;32m   1067\u001b[0m         \u001b[38;5;66;03m# We should never have a scalar section here, because\u001b[39;00m\n\u001b[0;32m   1068\u001b[0m         \u001b[38;5;66;03m#  _getitem_lowerdim is only called after a check for\u001b[39;00m\n\u001b[0;32m   1069\u001b[0m         \u001b[38;5;66;03m#  is_scalar_access, which that would be.\u001b[39;00m\n\u001b[0;32m   1070\u001b[0m         \u001b[38;5;28;01mif\u001b[39;00m section\u001b[38;5;241m.\u001b[39mndim \u001b[38;5;241m==\u001b[39m \u001b[38;5;28mself\u001b[39m\u001b[38;5;241m.\u001b[39mndim:\n\u001b[0;32m   1071\u001b[0m             \u001b[38;5;66;03m# we're in the middle of slicing through a MultiIndex\u001b[39;00m\n\u001b[0;32m   1072\u001b[0m             \u001b[38;5;66;03m# revise the key wrt to `section` by inserting an _NS\u001b[39;00m\n",
      "File \u001b[1;32m~\\anaconda3\\ammm\\Lib\\site-packages\\pandas\\core\\indexing.py:1431\u001b[0m, in \u001b[0;36m_LocIndexer._getitem_axis\u001b[1;34m(self, key, axis)\u001b[0m\n\u001b[0;32m   1429\u001b[0m \u001b[38;5;66;03m# fall thru to straight lookup\u001b[39;00m\n\u001b[0;32m   1430\u001b[0m \u001b[38;5;28mself\u001b[39m\u001b[38;5;241m.\u001b[39m_validate_key(key, axis)\n\u001b[1;32m-> 1431\u001b[0m \u001b[38;5;28;01mreturn\u001b[39;00m \u001b[38;5;28mself\u001b[39m\u001b[38;5;241m.\u001b[39m_get_label(key, axis\u001b[38;5;241m=\u001b[39maxis)\n",
      "File \u001b[1;32m~\\anaconda3\\ammm\\Lib\\site-packages\\pandas\\core\\indexing.py:1381\u001b[0m, in \u001b[0;36m_LocIndexer._get_label\u001b[1;34m(self, label, axis)\u001b[0m\n\u001b[0;32m   1379\u001b[0m \u001b[38;5;28;01mdef\u001b[39;00m \u001b[38;5;21m_get_label\u001b[39m(\u001b[38;5;28mself\u001b[39m, label, axis: AxisInt):\n\u001b[0;32m   1380\u001b[0m     \u001b[38;5;66;03m# GH#5567 this will fail if the label is not present in the axis.\u001b[39;00m\n\u001b[1;32m-> 1381\u001b[0m     \u001b[38;5;28;01mreturn\u001b[39;00m \u001b[38;5;28mself\u001b[39m\u001b[38;5;241m.\u001b[39mobj\u001b[38;5;241m.\u001b[39mxs(label, axis\u001b[38;5;241m=\u001b[39maxis)\n",
      "File \u001b[1;32m~\\anaconda3\\ammm\\Lib\\site-packages\\pandas\\core\\generic.py:4301\u001b[0m, in \u001b[0;36mNDFrame.xs\u001b[1;34m(self, key, axis, level, drop_level)\u001b[0m\n\u001b[0;32m   4299\u001b[0m             new_index \u001b[38;5;241m=\u001b[39m index[loc]\n\u001b[0;32m   4300\u001b[0m \u001b[38;5;28;01melse\u001b[39;00m:\n\u001b[1;32m-> 4301\u001b[0m     loc \u001b[38;5;241m=\u001b[39m index\u001b[38;5;241m.\u001b[39mget_loc(key)\n\u001b[0;32m   4303\u001b[0m     \u001b[38;5;28;01mif\u001b[39;00m \u001b[38;5;28misinstance\u001b[39m(loc, np\u001b[38;5;241m.\u001b[39mndarray):\n\u001b[0;32m   4304\u001b[0m         \u001b[38;5;28;01mif\u001b[39;00m loc\u001b[38;5;241m.\u001b[39mdtype \u001b[38;5;241m==\u001b[39m np\u001b[38;5;241m.\u001b[39mbool_:\n",
      "File \u001b[1;32m~\\anaconda3\\ammm\\Lib\\site-packages\\pandas\\core\\indexes\\base.py:3812\u001b[0m, in \u001b[0;36mIndex.get_loc\u001b[1;34m(self, key)\u001b[0m\n\u001b[0;32m   3807\u001b[0m     \u001b[38;5;28;01mif\u001b[39;00m \u001b[38;5;28misinstance\u001b[39m(casted_key, \u001b[38;5;28mslice\u001b[39m) \u001b[38;5;129;01mor\u001b[39;00m (\n\u001b[0;32m   3808\u001b[0m         \u001b[38;5;28misinstance\u001b[39m(casted_key, abc\u001b[38;5;241m.\u001b[39mIterable)\n\u001b[0;32m   3809\u001b[0m         \u001b[38;5;129;01mand\u001b[39;00m \u001b[38;5;28many\u001b[39m(\u001b[38;5;28misinstance\u001b[39m(x, \u001b[38;5;28mslice\u001b[39m) \u001b[38;5;28;01mfor\u001b[39;00m x \u001b[38;5;129;01min\u001b[39;00m casted_key)\n\u001b[0;32m   3810\u001b[0m     ):\n\u001b[0;32m   3811\u001b[0m         \u001b[38;5;28;01mraise\u001b[39;00m InvalidIndexError(key)\n\u001b[1;32m-> 3812\u001b[0m     \u001b[38;5;28;01mraise\u001b[39;00m \u001b[38;5;167;01mKeyError\u001b[39;00m(key) \u001b[38;5;28;01mfrom\u001b[39;00m \u001b[38;5;21;01merr\u001b[39;00m\n\u001b[0;32m   3813\u001b[0m \u001b[38;5;28;01mexcept\u001b[39;00m \u001b[38;5;167;01mTypeError\u001b[39;00m:\n\u001b[0;32m   3814\u001b[0m     \u001b[38;5;66;03m# If we have a listlike key, _check_indexing_error will raise\u001b[39;00m\n\u001b[0;32m   3815\u001b[0m     \u001b[38;5;66;03m#  InvalidIndexError. Otherwise we fall through and re-raise\u001b[39;00m\n\u001b[0;32m   3816\u001b[0m     \u001b[38;5;66;03m#  the TypeError.\u001b[39;00m\n\u001b[0;32m   3817\u001b[0m     \u001b[38;5;28mself\u001b[39m\u001b[38;5;241m.\u001b[39m_check_indexing_error(key)\n",
      "\u001b[1;31mKeyError\u001b[0m: 251.05646992818436"
     ]
    }
   ],
   "source": [
    "data['tip_paid'] = (data['tip_amount'] > 0).astype(int)\n",
    "\n",
    "\n",
    "X = data[['PULocationID', 'DOLocationID', 'trip_time_category']]\n",
    "y = data['tip_paid']\n",
    "\n",
    "\n",
    "X = pd.get_dummies(X, columns=['PULocationID', 'DOLocationID', 'trip_time_category'], drop_first=True)\n",
    "\n",
    "\n",
    "X_train, X_test, y_train, y_test = train_test_split(X, y, test_size=0.2, random_state=42)\n",
    "\n",
    "\n",
    "model = RandomForestClassifier(n_estimators=50, random_state=42)  \n",
    "model.fit(X_train, y_train)\n",
    "\n",
    "\n",
    "important_locations = [265,  55, 117,  86, 197,  76, 130, 244,  14,  75, 132,  39, 213,  93,216,\n",
    "205,  89,  51,  95,  61, 108, 254,  74, 215,  35]\n",
    "\n",
    "\n",
    "results = []\n",
    "for pu in important_locations:\n",
    "    for do in important_locations:\n",
    "        if pu != do:  \n",
    "            for time_category in ['Low', 'Normal', 'Peak']:\n",
    "                sample = pd.DataFrame({\n",
    "                    'PULocationID': [pu],\n",
    "                    'DOLocationID': [do],\n",
    "                    'trip_time_category': [time_category]\n",
    "                })\n",
    "                sample_encoded = pd.get_dummies(sample, columns=['PULocationID', 'DOLocationID', 'trip_time_category'])\n",
    "                sample_encoded = sample_encoded.reindex(columns=X.columns, fill_value=0)\n",
    "                predicted_tip = model.predict(sample_encoded)[0]\n",
    "                results.append({\n",
    "                    'PULocationID': pu,\n",
    "                    'DOLocationID': do,\n",
    "                    'trip_time_category': time_category,\n",
    "                    'tip_paid': 'Yes' if predicted_tip == 1 else 'No'\n",
    "                })\n",
    "\n",
    "\n",
    "y_pred = model.predict(X_test)\n",
    "model_accuracy = accuracy_score(y_test, y_pred)\n",
    "\n",
    "\n",
    "results_df = pd.DataFrame(results)\n",
    "results_df.to_csv('Important_Locations_Tip_Predictions.csv', index=False)\n",
    "\n",
    "\n",
    "demand_matrix = pd.read_csv(r\"C:\\Users\\asus\\Desktop\\Main_OD.csv\", index_col=0)  \n",
    "low_cost_matrix = pd.read_csv(r\"C:\\Users\\asus\\Desktop\\cost_matrix_low.csv\", index_col=0)  \n",
    "normal_cost_matrix = pd.read_csv(r\"C:\\Users\\asus\\Desktop\\cost_matrix_normal.csv\", index_col=0)  \n",
    "peak_cost_matrix = pd.read_csv(r\"C:\\Users\\asus\\Desktop\\cost_matrix_peak.csv\", index_col=0)  \n",
    "distance_matrix = pd.read_csv(r\"C:\\Users\\asus\\Desktop\\distance_matrix.csv\", index_col=0)  \n",
    "Important_Locations = pd.read_csv(r\"C:\\Users\\asus\\Desktop\\Important_Locations_Tip_Predictions.csv\")\n",
    "Important_Locations.set_index(['PULocationID', 'DOLocationID', 'trip_time_category'], inplace=True)\n",
    "\n",
    "\n",
    "from pulp import LpMaximize, LpProblem, LpVariable, lpSum\n",
    "\n",
    "locations = demand_matrix.index.tolist()\n",
    "times = ['Low', 'Normal', 'Peak']\n",
    "\n",
    "model = LpProblem(\"Maximize_Profit\", LpMaximize)\n",
    "\n",
    "x = LpVariable.dicts(\"X\", [(i, j, t) for i in locations for j in locations for t in times],\n",
    "                     lowBound=0, cat=\"Continuous\")\n",
    "\n",
    "objective = lpSum(\n",
    "    (40 - low_cost_matrix.loc[i, j]) * x[i, j, 'Low'] +\n",
    "    (40 - normal_cost_matrix.loc[i, j]) * x[i, j, 'Normal'] +\n",
    "    (40 - peak_cost_matrix.loc[i, j]) * x[i, j, 'Peak']\n",
    "    for i in locations for j in locations if i != j\n",
    ") + lpSum(\n",
    "    5 * model_accuracy * x[i, j, t]\n",
    "    if (i, j, t) in Important_Locations.index and Important_Locations.loc[(i, j, t), 'tip_paid'] == 'Yes' else 0\n",
    "    for i in locations for j in locations if i != j for t in times\n",
    ")\n",
    "model += objective\n",
    "\n",
    "\n",
    "model += lpSum(\n",
    "    distance_matrix.loc[i, j] * x[i, j, t]\n",
    "    for i in locations for j in locations if i != j for t in times\n",
    ") <= 1000, \"Total_Distance\"\n",
    "\n",
    "for i in locations:\n",
    "    for j in locations:\n",
    "        if i != j:\n",
    "            for t in times:\n",
    "                model += x[i, j, t] <= demand_matrix.loc[i, j], f\"Demand_Constraint_{i}_{j}_{t}\"\n",
    "\n",
    "\n",
    "model.solve()\n",
    "\n",
    "\n",
    "print(\"Status:\", model.status)\n",
    "print(\"Objective Value (Profit):\", model.objective.value())\n",
    "\n",
    "decision_values = pd.DataFrame([\n",
    "    {\"PULocationID\": i, \"DOLocationID\": j, \"Time\": t, \"Trips\": x[i, j, t].varValue}\n",
    "    for i in locations for j in locations if i != j for t in times\n",
    "])\n",
    "\n",
    "print(decision_values)\n",
    "decision_values.to_csv('Optimal_Decisions.csv', index=False)"
   ]
  },
  {
   "cell_type": "code",
   "execution_count": null,
   "id": "d65ee209-0008-4d33-8b5f-ad7672149947",
   "metadata": {},
   "outputs": [],
   "source": []
  }
 ],
 "metadata": {
  "kernelspec": {
   "display_name": "Python [conda env:base] *",
   "language": "python",
   "name": "conda-base-py"
  },
  "language_info": {
   "codemirror_mode": {
    "name": "ipython",
    "version": 3
   },
   "file_extension": ".py",
   "mimetype": "text/x-python",
   "name": "python",
   "nbconvert_exporter": "python",
   "pygments_lexer": "ipython3",
   "version": "3.12.7"
  }
 },
 "nbformat": 4,
 "nbformat_minor": 5
}
